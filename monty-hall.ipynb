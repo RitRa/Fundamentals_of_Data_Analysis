{
 "cells": [
  {
   "cell_type": "markdown",
   "metadata": {},
   "source": [
    "# Monty Hall"
   ]
  },
  {
   "cell_type": "code",
   "execution_count": 1,
   "metadata": {},
   "outputs": [
    {
     "name": "stdout",
     "output_type": "stream",
     "text": [
      "[3, 3, 1, 3, 2, 2, 2, 1, 3, 2, 2, 3, 2, 1, 2, 1, 2, 1, 3, 1, 2, 3, 2, 3, 3, 2, 3, 2, 3, 1, 2, 2, 3, 1, 2, 2, 3, 3, 1, 1, 2, 2, 3, 2, 3, 3, 2, 3, 2, 3, 3, 3, 2, 3, 3, 2, 1, 1, 1, 3, 3, 2, 3, 3, 1, 2, 3, 2, 1, 2, 3, 1, 2, 1, 3, 1, 2, 2, 3, 1, 3, 3, 2, 3, 1, 2, 2, 3, 1, 1, 2, 1, 2, 3, 2, 3, 1, 3, 2, 1, 3, 3, 3, 2, 2, 1, 1, 2, 2, 3, 1, 3, 2, 2, 1, 1, 3, 2, 2, 2, 1, 2, 3, 3, 3, 3, 1, 1, 3, 3, 1, 2, 2, 1, 1, 2, 1, 2, 3, 2, 2, 1, 1, 3, 1, 1, 3, 2, 3, 1, 2, 1, 3, 1, 2, 2, 2, 1, 3, 2, 1, 2, 2, 3, 1, 1, 3, 2, 2, 3, 2, 3, 2, 3, 3, 1, 3, 2, 1, 2, 1, 2, 1, 3, 2, 2, 2, 2, 2, 1, 3, 2, 3, 3, 3, 2, 1, 3, 3, 1, 2, 2, 3, 1, 3, 1, 2, 3, 1, 2, 3, 2, 3, 2, 2, 3, 1, 3, 2, 3, 1, 1, 1, 1, 1, 2, 3, 3, 2, 1, 2, 1, 3, 3, 3, 3, 1, 3, 3, 1, 3, 2, 3, 3, 3, 1, 1, 2, 3, 1, 3, 2, 1, 3, 2, 1, 2, 3, 2, 2, 1, 2, 3, 3, 1, 2, 2, 2, 1, 1, 3, 1, 2, 1, 1, 2, 3, 2, 1, 2, 2, 3, 1, 3, 2, 2, 2, 3, 1, 2, 2, 2, 2, 3, 3, 3, 1, 3, 3, 1, 3, 3, 1, 2, 1, 1, 1, 2, 1, 1, 3, 2, 1, 2, 1, 2, 1, 3, 3, 2, 3, 1, 1, 2, 2, 2, 1, 3, 2, 2, 1, 3, 3, 3, 3, 3, 3, 2, 2, 2, 3, 2, 2, 1, 2, 2, 1, 1, 1, 2, 2, 3, 3, 2, 2, 2, 2, 1, 1, 1, 1, 2, 1, 3, 1, 3, 2, 2, 1, 3, 1, 1, 1, 1, 2, 2, 1, 1, 2, 2, 1, 1, 2, 1, 3, 2, 1, 2, 1, 1, 3, 3, 3, 2, 2, 3, 2, 2, 2, 1, 1, 2, 1, 2, 1, 2, 1, 3, 1, 3, 2, 1, 3, 2, 2, 2, 1, 3, 2, 3, 2, 2, 2, 2, 2, 3, 3, 3, 3, 1, 2, 1, 1, 1, 1, 1, 1, 3, 1, 1, 3, 2, 3, 1, 2, 1, 2, 1, 1, 1, 3, 2, 3, 2, 1, 1, 1, 2, 3, 3, 2, 3, 2, 1, 3, 1, 2, 2, 2, 1, 2, 2, 3, 1, 2, 2, 3, 1, 2, 3, 1, 3, 2, 3, 1, 2, 3, 1, 1, 1, 3, 3, 2, 1, 2, 2, 3, 2, 3, 1, 3, 3, 3, 3, 2, 2, 1, 2, 2, 1, 3, 1, 1, 1, 3, 1, 2, 2, 1, 2, 2, 1, 1, 3, 3, 1, 2, 3, 3, 3, 3, 1, 3, 1, 2, 3, 2, 3, 3, 1, 3, 3, 1, 1, 2, 1, 3, 3, 1, 2, 3, 2, 1, 2, 1, 1, 2, 2, 2, 1, 3, 1, 3, 3, 1, 3, 2, 1, 1, 1, 2, 1, 1, 2, 2, 3, 1, 1, 1, 2, 3, 2, 3, 1, 3, 1, 1, 1, 1, 3, 1, 3, 2, 3, 2, 1, 3, 1, 1, 2, 3, 1, 1, 3, 2, 3, 2, 3, 2, 3, 1, 1, 1, 3, 3, 3, 3, 3, 1, 3, 2, 2, 3, 1, 2, 3, 2, 1, 3, 1, 1, 2, 3, 3, 3, 1, 3, 3, 3, 1, 1, 1, 3, 2, 3, 3, 1, 2, 1, 1, 2, 2, 1, 2, 2, 3, 1, 2, 2, 2, 1, 3, 2, 1, 1, 3, 2, 3, 2, 2, 1, 1, 1, 1, 3, 3, 2, 3, 1, 3, 3, 3, 3, 3, 1, 3, 1, 2, 3, 1, 3, 1, 1, 1, 1, 3, 3, 2, 2, 3, 1, 1, 1, 1, 3, 3, 3, 2, 1, 3, 2, 2, 3, 2, 2, 2, 2, 3, 2, 1, 3, 3, 2, 2, 1, 1, 1, 2, 2, 3, 3, 3, 2, 1, 1, 3, 1, 3, 2, 2, 3, 2, 1, 2, 3, 1, 3, 1, 1, 1, 3, 3, 3, 3, 3, 3, 2, 1, 2, 3, 2, 3, 3, 3, 1, 1, 2, 3, 3, 1, 1, 2, 3, 3, 2, 2, 1, 3, 3, 3, 2, 1, 2, 3, 2, 1, 1, 2, 2, 2, 2, 2, 2, 3, 2, 3, 1, 2, 2, 1, 1, 2, 3, 2, 3, 2, 2, 1, 1, 1, 3, 1, 1, 3, 1, 2, 1, 3, 3, 3, 1, 3, 2, 2, 2, 1, 2, 3, 3, 2, 2, 2, 1, 2, 2, 1, 3, 3, 3, 1, 3, 2, 3, 3, 2, 3, 1, 3, 1, 1, 3, 3, 2, 3, 1, 3, 3, 2, 3, 2, 3, 1, 1, 3, 1, 1, 2, 1, 1, 1, 1, 3, 1, 2, 1, 3, 1, 2, 1, 1, 2, 1, 3, 3, 3, 2, 2, 1, 3, 2, 1, 3, 2, 3, 3, 3, 2, 1, 2, 2, 1, 2, 1, 3, 1, 3, 3, 3, 2, 2, 1, 3, 3, 1, 2, 1, 1, 1, 3, 3, 3, 3, 2, 2, 2, 1, 2, 2, 1, 3, 1, 1, 3, 3, 1, 2, 2, 3, 3, 1, 2, 2, 2, 3, 3, 2, 1, 2, 2, 2, 1, 1, 3, 1, 3, 3, 3, 3, 2, 1, 2, 1, 3, 3, 3, 2, 1, 2, 1, 2, 2, 1, 1, 2, 3, 2, 1, 2, 2, 1, 2, 1, 2, 1, 2, 2, 3, 3, 1, 1, 3, 3, 2, 2, 3, 3, 1, 1, 3, 2]\n"
     ]
    }
   ],
   "source": [
    "import numpy as np\n",
    "\n",
    "def selectdoor():\n",
    "    randomno = np.random.uniform(0.0, 3.0)\n",
    "    if randomno < 1.0:\n",
    "        return 1\n",
    "    elif randomno < 2.0:\n",
    "        return 2\n",
    "    else:\n",
    "        return 3\n",
    "\n",
    "cars = [selectdoor() for i in range(1000)]\n",
    "print(cars)"
   ]
  },
  {
   "cell_type": "code",
   "execution_count": 2,
   "metadata": {},
   "outputs": [
    {
     "data": {
      "image/png": "[encoded data removed]",
      "text/plain": [
       "<matplotlib.figure.Figure at 0x1056d9080>"
      ]
     },
     "metadata": {},
     "output_type": "display_data"
    }
   ],
   "source": [
    "import seaborn as sns\n",
    "import matplotlib.pyplot as pl\n",
    "\n",
    "pl.figure(figsize=(10, 6))\n",
    "sns.set(style=\"darkgrid\")\n",
    "ax = sns.countplot(y=cars)\n",
    "pl.show()"
   ]
  },
  {
   "cell_type": "markdown",
   "metadata": {},
   "source": [
    "# Student game"
   ]
  },
  {
   "cell_type": "code",
   "execution_count": 3,
   "metadata": {
    "collapsed": true
   },
   "outputs": [],
   "source": [
    "import random"
   ]
  },
  {
   "cell_type": "code",
   "execution_count": 4,
   "metadata": {
    "collapsed": true
   },
   "outputs": [],
   "source": [
    "doors = ['A', 'B', 'C']"
   ]
  },
  {
   "cell_type": "code",
   "execution_count": 5,
   "metadata": {
    "collapsed": true
   },
   "outputs": [],
   "source": [
    "car = random.choice(doors)"
   ]
  },
  {
   "cell_type": "code",
   "execution_count": 6,
   "metadata": {
    "collapsed": true
   },
   "outputs": [],
   "source": [
    "pick = random.choice(doors)"
   ]
  },
  {
   "cell_type": "code",
   "execution_count": 7,
   "metadata": {},
   "outputs": [
    {
     "data": {
      "text/plain": [
       "('B', 'C')"
      ]
     },
     "execution_count": 7,
     "metadata": {},
     "output_type": "execute_result"
    }
   ],
   "source": [
    "car, pick"
   ]
  },
  {
   "cell_type": "code",
   "execution_count": 8,
   "metadata": {
    "collapsed": true
   },
   "outputs": [],
   "source": [
    "show = random.choice([door for door in doors if door != car and door != pick])"
   ]
  },
  {
   "cell_type": "code",
   "execution_count": 9,
   "metadata": {},
   "outputs": [
    {
     "data": {
      "text/plain": [
       "'A'"
      ]
     },
     "execution_count": 9,
     "metadata": {},
     "output_type": "execute_result"
    }
   ],
   "source": [
    "show"
   ]
  },
  {
   "cell_type": "code",
   "execution_count": null,
   "metadata": {
    "collapsed": true
   },
   "outputs": [],
   "source": []
  }
 ],
 "metadata": {
  "kernelspec": {
   "display_name": "Python 3",
   "language": "python",
   "name": "python3"
  },
  "language_info": {
   "codemirror_mode": {
    "name": "ipython",
    "version": 3
   },
   "file_extension": ".py",
   "mimetype": "text/x-python",
   "name": "python",
   "nbconvert_exporter": "python",
   "pygments_lexer": "ipython3",
   "version": "3.6.3"
  }
 },
 "nbformat": 4,
 "nbformat_minor": 2
}
