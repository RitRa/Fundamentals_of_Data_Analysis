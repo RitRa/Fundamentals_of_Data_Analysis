{
 "cells": [
  {
   "cell_type": "markdown",
   "metadata": {},
   "source": [
    "# Simple Linear Regression with NumPy"
   ]
  },
  {
   "cell_type": "code",
   "execution_count": 13,
   "metadata": {},
   "outputs": [
    {
     "data": {
      "image/png": "[encoded data removed]",
      "text/plain": [
       "<matplotlib.figure.Figure at 0x11411fe80>"
      ]
     },
     "metadata": {},
     "output_type": "display_data"
    }
   ],
   "source": [
    "import matplotlib.pyplot as plt\n",
    "\n",
    "# Draw some axes\n",
    "plt.plot([-1, 10], [0,0], 'k-')\n",
    "plt.plot([0, 0], [-1,10], 'k-')\n",
    "\n",
    "# Plot the red, blue and green lines\n",
    "plt.plot([1, 1], [-1,3], 'b:')\n",
    "plt.plot([-1, 1], [3,3], 'r:')\n",
    "\n",
    "# Plot the points\n",
    "plt.plot([1, 2], [3, 5], 'ko')\n",
    "# Join them\n",
    "plt.plot([-1, 10], [-1,21], 'g-')\n",
    "\n",
    "# Set some reasonable plot limits\n",
    "plt.xlim([-1, 10])\n",
    "plt.ylim([-1, 10])\n",
    "\n",
    "# Show the plot\n",
    "plt.show()"
   ]
  },
  {
   "cell_type": "code",
   "execution_count": null,
   "metadata": {
    "collapsed": true
   },
   "outputs": [],
   "source": []
  }
 ],
 "metadata": {
  "kernelspec": {
   "display_name": "Python 3",
   "language": "python",
   "name": "python3"
  },
  "language_info": {
   "codemirror_mode": {
    "name": "ipython",
    "version": 3
   },
   "file_extension": ".py",
   "mimetype": "text/x-python",
   "name": "python",
   "nbconvert_exporter": "python",
   "pygments_lexer": "ipython3",
   "version": "3.6.3"
  }
 },
 "nbformat": 4,
 "nbformat_minor": 2
}
